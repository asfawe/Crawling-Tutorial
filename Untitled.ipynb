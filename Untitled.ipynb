{
 "cells": [
  {
   "cell_type": "code",
   "execution_count": 2,
   "id": "1da84bc9",
   "metadata": {},
   "outputs": [],
   "source": [
    "import requests\n",
    "from bs4 import BeautifulSoup\n",
    "\n",
    "\n",
    "url = 'http://paullab.co.kr/stock.html'\n",
    "response = requests.get(url)\n",
    "response.encoding = 'utf-8'\n",
    "html = response.text\n",
    "\n",
    "soup = BeautifulSoup(html, 'html.parser')"
   ]
  },
  {
   "cell_type": "code",
   "execution_count": 8,
   "id": "28ebc5d8",
   "metadata": {},
   "outputs": [
    {
     "data": {
      "text/plain": [
       "'349조 2,323억원'"
      ]
     },
     "execution_count": 8,
     "metadata": {},
     "output_type": "execute_result"
    }
   ],
   "source": [
    "values = soup.select('.tables td')\n",
    "values[0].text"
   ]
  },
  {
   "cell_type": "code",
   "execution_count": 9,
   "id": "110c0803",
   "metadata": {},
   "outputs": [
    {
     "name": "stdout",
     "output_type": "stream",
     "text": [
      "349조 2,323억원\n",
      "위니브월드 1위\n",
      "5,969,782,550\n",
      "349조 2,323억원\n",
      "\n",
      "62,800\n",
      "l\n",
      "42,300\n",
      "\n",
      "\n",
      "2.42%\n",
      "                \n",
      "22,125,034,978,750원\n",
      "19,223,803,154,781원\n",
      "2,901,231,823,969원\n"
     ]
    }
   ],
   "source": [
    "print(values[0].text)\n",
    "print(values[1].text)\n",
    "print(values[2].text)\n",
    "print(values[3].text)\n",
    "print(values[4].text)\n",
    "print(values[5].text)\n",
    "print(values[6].text)\n",
    "print(values[7].text)\n",
    "print(values[8].text)"
   ]
  },
  {
   "cell_type": "code",
   "execution_count": null,
   "id": "51a1f8c0",
   "metadata": {},
   "outputs": [],
   "source": []
  },
  {
   "cell_type": "code",
   "execution_count": null,
   "id": "c02c42bf",
   "metadata": {},
   "outputs": [],
   "source": []
  },
  {
   "cell_type": "code",
   "execution_count": null,
   "id": "81f1281c",
   "metadata": {},
   "outputs": [],
   "source": []
  },
  {
   "cell_type": "code",
   "execution_count": null,
   "id": "0f34e096",
   "metadata": {},
   "outputs": [],
   "source": []
  }
 ],
 "metadata": {
  "kernelspec": {
   "display_name": "Python 3 (ipykernel)",
   "language": "python",
   "name": "python3"
  },
  "language_info": {
   "codemirror_mode": {
    "name": "ipython",
    "version": 3
   },
   "file_extension": ".py",
   "mimetype": "text/x-python",
   "name": "python",
   "nbconvert_exporter": "python",
   "pygments_lexer": "ipython3",
   "version": "3.9.6"
  }
 },
 "nbformat": 4,
 "nbformat_minor": 5
}
